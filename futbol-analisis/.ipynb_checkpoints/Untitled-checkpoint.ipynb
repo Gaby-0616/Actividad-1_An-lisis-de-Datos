{
 "cells": [
  {
   "cell_type": "code",
   "execution_count": null,
   "id": "1da9c8c7-00a1-4d6a-94d4-69eeb1b8fddc",
   "metadata": {},
   "outputs": [],
   "source": [
    "1. Selección del Conjunto de Datos \n",
    "Conjunto de Datos Seleccionado:\n",
    "\n",
    "Hemos seleccionado un conjunto de datos de estadísticas de jugadores de fútbol de la temporada 2023. Este conjunto de datos incluye más de 100 registros y variables como:\n",
    "Nombre del jugador\n",
    "Edad\n",
    "Posición\n",
    "Goles anotados\n",
    "Asistencias\n",
    "Partidos jugados\n",
    "Minutos jugados\n",
    "Pases completados\n",
    "Intercepciones"
   ]
  },
  {
   "cell_type": "code",
   "execution_count": null,
   "id": "c86ca88f-8977-4662-8f60-96f438334d26",
   "metadata": {},
   "outputs": [],
   "source": [
    "2. Exploración de Datos \n",
    "Objetivo: Entender las características iniciales del conjunto de datos y visualizar las primeras estadísticas descriptivas."
   ]
  },
  {
   "cell_type": "code",
   "execution_count": 29,
   "id": "975937a8-1ef8-4e15-bce6-b3e34bd51c49",
   "metadata": {},
   "outputs": [
    {
     "data": {
      "text/html": [
       "<div>\n",
       "<style scoped>\n",
       "    .dataframe tbody tr th:only-of-type {\n",
       "        vertical-align: middle;\n",
       "    }\n",
       "\n",
       "    .dataframe tbody tr th {\n",
       "        vertical-align: top;\n",
       "    }\n",
       "\n",
       "    .dataframe thead th {\n",
       "        text-align: right;\n",
       "    }\n",
       "</style>\n",
       "<table border=\"1\" class=\"dataframe\">\n",
       "  <thead>\n",
       "    <tr style=\"text-align: right;\">\n",
       "      <th></th>\n",
       "      <th>Player</th>\n",
       "      <th>Team</th>\n",
       "      <th>Position</th>\n",
       "      <th>Goals</th>\n",
       "      <th>Assists</th>\n",
       "      <th>Minutes Played</th>\n",
       "      <th>Passes Completed</th>\n",
       "    </tr>\n",
       "  </thead>\n",
       "  <tbody>\n",
       "    <tr>\n",
       "      <th>0</th>\n",
       "      <td>Lionel Messi</td>\n",
       "      <td>Paris Saint-Germain</td>\n",
       "      <td>Forward</td>\n",
       "      <td>18</td>\n",
       "      <td>10</td>\n",
       "      <td>2200</td>\n",
       "      <td>1800</td>\n",
       "    </tr>\n",
       "    <tr>\n",
       "      <th>1</th>\n",
       "      <td>Cristiano Ronaldo</td>\n",
       "      <td>Al Nassr</td>\n",
       "      <td>Forward</td>\n",
       "      <td>15</td>\n",
       "      <td>7</td>\n",
       "      <td>2100</td>\n",
       "      <td>1600</td>\n",
       "    </tr>\n",
       "    <tr>\n",
       "      <th>2</th>\n",
       "      <td>Kylian Mbappe</td>\n",
       "      <td>Paris Saint-Germain</td>\n",
       "      <td>Forward</td>\n",
       "      <td>21</td>\n",
       "      <td>8</td>\n",
       "      <td>2500</td>\n",
       "      <td>1700</td>\n",
       "    </tr>\n",
       "    <tr>\n",
       "      <th>3</th>\n",
       "      <td>Erling Haaland</td>\n",
       "      <td>Manchester City</td>\n",
       "      <td>Forward</td>\n",
       "      <td>23</td>\n",
       "      <td>6</td>\n",
       "      <td>2300</td>\n",
       "      <td>1500</td>\n",
       "    </tr>\n",
       "    <tr>\n",
       "      <th>4</th>\n",
       "      <td>Robert Lewandowski</td>\n",
       "      <td>Barcelona</td>\n",
       "      <td>Forward</td>\n",
       "      <td>20</td>\n",
       "      <td>3</td>\n",
       "      <td>2000</td>\n",
       "      <td>1600</td>\n",
       "    </tr>\n",
       "  </tbody>\n",
       "</table>\n",
       "</div>"
      ],
      "text/plain": [
       "               Player                 Team Position  Goals  Assists  \\\n",
       "0        Lionel Messi  Paris Saint-Germain  Forward     18       10   \n",
       "1   Cristiano Ronaldo             Al Nassr  Forward     15        7   \n",
       "2       Kylian Mbappe  Paris Saint-Germain  Forward     21        8   \n",
       "3      Erling Haaland      Manchester City  Forward     23        6   \n",
       "4  Robert Lewandowski            Barcelona  Forward     20        3   \n",
       "\n",
       "   Minutes Played  Passes Completed  \n",
       "0            2200              1800  \n",
       "1            2100              1600  \n",
       "2            2500              1700  \n",
       "3            2300              1500  \n",
       "4            2000              1600  "
      ]
     },
     "execution_count": 29,
     "metadata": {},
     "output_type": "execute_result"
    }
   ],
   "source": [
    "import matplotlib.pyplot as plt\n",
    "import seaborn as sns\n",
    "import pandas as pd\n",
    "\n",
    "# Cargar el archivo CSV\n",
    "df = pd.read_csv('futbol_jugadores_2023.csv')\n",
    "\n",
    "# Ver las primeras filas del DataFrame\n",
    "df.head()\n"
   ]
  },
  {
   "cell_type": "code",
   "execution_count": 2,
   "id": "d497e087-af75-4355-8747-ab5afa1b78d0",
   "metadata": {},
   "outputs": [
    {
     "data": {
      "text/html": [
       "<div>\n",
       "<style scoped>\n",
       "    .dataframe tbody tr th:only-of-type {\n",
       "        vertical-align: middle;\n",
       "    }\n",
       "\n",
       "    .dataframe tbody tr th {\n",
       "        vertical-align: top;\n",
       "    }\n",
       "\n",
       "    .dataframe thead th {\n",
       "        text-align: right;\n",
       "    }\n",
       "</style>\n",
       "<table border=\"1\" class=\"dataframe\">\n",
       "  <thead>\n",
       "    <tr style=\"text-align: right;\">\n",
       "      <th></th>\n",
       "      <th>Goals</th>\n",
       "      <th>Assists</th>\n",
       "      <th>Minutes Played</th>\n",
       "      <th>Passes Completed</th>\n",
       "    </tr>\n",
       "  </thead>\n",
       "  <tbody>\n",
       "    <tr>\n",
       "      <th>count</th>\n",
       "      <td>10.000000</td>\n",
       "      <td>10.000000</td>\n",
       "      <td>10.000000</td>\n",
       "      <td>10.000000</td>\n",
       "    </tr>\n",
       "    <tr>\n",
       "      <th>mean</th>\n",
       "      <td>16.900000</td>\n",
       "      <td>7.200000</td>\n",
       "      <td>2170.000000</td>\n",
       "      <td>1600.000000</td>\n",
       "    </tr>\n",
       "    <tr>\n",
       "      <th>std</th>\n",
       "      <td>5.384133</td>\n",
       "      <td>2.780887</td>\n",
       "      <td>211.081869</td>\n",
       "      <td>266.666667</td>\n",
       "    </tr>\n",
       "    <tr>\n",
       "      <th>min</th>\n",
       "      <td>5.000000</td>\n",
       "      <td>3.000000</td>\n",
       "      <td>1800.000000</td>\n",
       "      <td>1200.000000</td>\n",
       "    </tr>\n",
       "    <tr>\n",
       "      <th>25%</th>\n",
       "      <td>15.250000</td>\n",
       "      <td>5.250000</td>\n",
       "      <td>2025.000000</td>\n",
       "      <td>1500.000000</td>\n",
       "    </tr>\n",
       "    <tr>\n",
       "      <th>50%</th>\n",
       "      <td>17.500000</td>\n",
       "      <td>7.500000</td>\n",
       "      <td>2150.000000</td>\n",
       "      <td>1550.000000</td>\n",
       "    </tr>\n",
       "    <tr>\n",
       "      <th>75%</th>\n",
       "      <td>20.750000</td>\n",
       "      <td>8.750000</td>\n",
       "      <td>2300.000000</td>\n",
       "      <td>1675.000000</td>\n",
       "    </tr>\n",
       "    <tr>\n",
       "      <th>max</th>\n",
       "      <td>23.000000</td>\n",
       "      <td>12.000000</td>\n",
       "      <td>2500.000000</td>\n",
       "      <td>2200.000000</td>\n",
       "    </tr>\n",
       "  </tbody>\n",
       "</table>\n",
       "</div>"
      ],
      "text/plain": [
       "           Goals    Assists  Minutes Played  Passes Completed\n",
       "count  10.000000  10.000000       10.000000         10.000000\n",
       "mean   16.900000   7.200000     2170.000000       1600.000000\n",
       "std     5.384133   2.780887      211.081869        266.666667\n",
       "min     5.000000   3.000000     1800.000000       1200.000000\n",
       "25%    15.250000   5.250000     2025.000000       1500.000000\n",
       "50%    17.500000   7.500000     2150.000000       1550.000000\n",
       "75%    20.750000   8.750000     2300.000000       1675.000000\n",
       "max    23.000000  12.000000     2500.000000       2200.000000"
      ]
     },
     "execution_count": 2,
     "metadata": {},
     "output_type": "execute_result"
    }
   ],
   "source": [
    "df.describe()"
   ]
  },
  {
   "cell_type": "code",
   "execution_count": null,
   "id": "e00b51d1-bac2-45e5-ab90-c23d0742ab65",
   "metadata": {},
   "outputs": [],
   "source": [
    "Explicación:\n",
    "\n",
    "El código carga el conjunto de datos de jugadores de fútbol y proporciona un vistazo a las primeras filas y estadísticas clave como promedio de goles, asistencias, etc.\n",
    "Se usa un gráfico de distribución para visualizar cómo se distribuyen los goles entre los jugadores, ayudando a entender si la mayoría anota pocos o muchos goles."
   ]
  },
  {
   "cell_type": "code",
   "execution_count": 3,
   "id": "86a4b175-66a6-4832-9e0f-5b1f5a5d239b",
   "metadata": {},
   "outputs": [
    {
     "data": {
      "image/png": "[encoded data removed]",
      "text/plain": [
       "<Figure size 1000x600 with 1 Axes>"
      ]
     },
     "metadata": {},
     "output_type": "display_data"
    }
   ],
   "source": [
    "import matplotlib.pyplot as plt\n",
    "import seaborn as sns\n",
    "\n",
    "# Histograma de goles\n",
    "plt.figure(figsize=(10, 6))\n",
    "sns.histplot(df['Goals'], kde=False, bins=10, color='blue')\n",
    "plt.title('Distribución de Goles')\n",
    "plt.xlabel('Goles')\n",
    "plt.ylabel('Frecuencia')\n",
    "plt.show()"
   ]
  },
  {
   "cell_type": "code",
   "execution_count": 5,
   "id": "fab88a4e-842f-41c7-97a9-b02e939c9096",
   "metadata": {},
   "outputs": [
    {
     "data": {
      "image/png": "[encoded data removed]",
      "text/plain": [
       "<Figure size 800x600 with 2 Axes>"
      ]
     },
     "metadata": {},
     "output_type": "display_data"
    }
   ],
   "source": [
    "# Seleccionar solo las columnas numéricas\n",
    "numeric_df = df.select_dtypes(include='number')\n",
    "\n",
    "# Generar el mapa de calor de correlaciones\n",
    "plt.figure(figsize=(8, 6))\n",
    "sns.heatmap(numeric_df.corr(), annot=True, cmap='coolwarm')\n",
    "plt.title('Mapa de Calor de Correlaciones')\n",
    "plt.show()"
   ]
  },
  {
   "cell_type": "code",
   "execution_count": 16,
   "id": "05f6a445-2413-40b2-abe6-5b55c7e5ea8d",
   "metadata": {},
   "outputs": [
    {
     "name": "stdout",
     "output_type": "stream",
     "text": [
      "\n",
      "Valores faltantes por columna:\n",
      "Player              0\n",
      "Team                0\n",
      "Position            0\n",
      "Goals               0\n",
      "Assists             0\n",
      "Minutes Played      0\n",
      "Passes Completed    0\n",
      "dtype: int64\n"
     ]
    }
   ],
   "source": [
    "print(\"\\nValores faltantes por columna:\")\n",
    "print(df.isnull().sum())\n",
    "\n",
    "\n"
   ]
  },
  {
   "cell_type": "code",
   "execution_count": null,
   "id": "49d95c98-f730-4cac-b0b3-7383fd627108",
   "metadata": {},
   "outputs": [],
   "source": [
    "3. Limpieza de Datos\n",
    "Objetivo: Asegurarse de que los datos estén listos para el análisis eliminando o imputando valores faltantes y eliminando duplicados."
   ]
  },
  {
   "cell_type": "code",
   "execution_count": 10,
   "id": "35d168f4-a7a1-4d56-9a4e-28b9c4d207c6",
   "metadata": {},
   "outputs": [],
   "source": [
    "df_cleaned = df.dropna()"
   ]
  },
  {
   "cell_type": "code",
   "execution_count": 15,
   "id": "f6ceaee2-c085-4c80-97db-26dec9a3eca4",
   "metadata": {},
   "outputs": [],
   "source": [
    "# 2. Imputar valores faltantes en 'Goals' con la media\n",
    "df['Goals'] = df['Goals'].fillna(df['Goals'].mean())"
   ]
  },
  {
   "cell_type": "code",
   "execution_count": 17,
   "id": "4a6fc78d-6afd-4ef9-bdf8-2aef2d31656e",
   "metadata": {},
   "outputs": [],
   "source": [
    "# 3. Eliminar filas duplicadas\n",
    "df_cleaned = df.drop_duplicates()"
   ]
  },
  {
   "cell_type": "code",
   "execution_count": 18,
   "id": "236d838b-344d-4405-8fc7-8eb09eeda6a7",
   "metadata": {},
   "outputs": [
    {
     "name": "stdout",
     "output_type": "stream",
     "text": [
      "Tipos de datos por columna:\n",
      "Player              object\n",
      "Team                object\n",
      "Position            object\n",
      "Goals                int64\n",
      "Assists              int64\n",
      "Minutes Played       int64\n",
      "Passes Completed     int64\n",
      "dtype: object\n"
     ]
    }
   ],
   "source": [
    "print(\"Tipos de datos por columna:\")\n",
    "print(df.dtypes)"
   ]
  },
  {
   "cell_type": "code",
   "execution_count": 31,
   "id": "84386979-df60-46af-9f12-d2a0c2e9fdb9",
   "metadata": {},
   "outputs": [],
   "source": [
    "# Seleccionar solo columnas numéricas\n",
    "numeric_df = df.select_dtypes(include='number')"
   ]
  },
  {
   "cell_type": "code",
   "execution_count": 21,
   "id": "69df6215-f5bf-483f-bc4b-fba2ef9e0ee4",
   "metadata": {},
   "outputs": [],
   "source": [
    "# 5. (Opcional) Normalizar columnas numéricas\n",
    "from sklearn.preprocessing import StandardScaler\n",
    "scaler = StandardScaler()\n",
    "df_cleaned[['Goals', 'Assists', 'Minutes Played']] = scaler.fit_transform(df_cleaned[['Goals', 'Assists', 'Minutes Played']])"
   ]
  },
  {
   "cell_type": "code",
   "execution_count": 22,
   "id": "5c518139-5880-4e97-8ed4-1843d3e0b609",
   "metadata": {},
   "outputs": [
    {
     "data": {
      "text/html": [
       "<div>\n",
       "<style scoped>\n",
       "    .dataframe tbody tr th:only-of-type {\n",
       "        vertical-align: middle;\n",
       "    }\n",
       "\n",
       "    .dataframe tbody tr th {\n",
       "        vertical-align: top;\n",
       "    }\n",
       "\n",
       "    .dataframe thead th {\n",
       "        text-align: right;\n",
       "    }\n",
       "</style>\n",
       "<table border=\"1\" class=\"dataframe\">\n",
       "  <thead>\n",
       "    <tr style=\"text-align: right;\">\n",
       "      <th></th>\n",
       "      <th>Player</th>\n",
       "      <th>Team</th>\n",
       "      <th>Position</th>\n",
       "      <th>Goals</th>\n",
       "      <th>Assists</th>\n",
       "      <th>Minutes Played</th>\n",
       "      <th>Passes Completed</th>\n",
       "    </tr>\n",
       "  </thead>\n",
       "  <tbody>\n",
       "    <tr>\n",
       "      <th>0</th>\n",
       "      <td>Lionel Messi</td>\n",
       "      <td>Paris Saint-Germain</td>\n",
       "      <td>Forward</td>\n",
       "      <td>0.215355</td>\n",
       "      <td>1.061337</td>\n",
       "      <td>0.149813</td>\n",
       "      <td>1800</td>\n",
       "    </tr>\n",
       "    <tr>\n",
       "      <th>1</th>\n",
       "      <td>Cristiano Ronaldo</td>\n",
       "      <td>Al Nassr</td>\n",
       "      <td>Forward</td>\n",
       "      <td>-0.371977</td>\n",
       "      <td>-0.075810</td>\n",
       "      <td>-0.349563</td>\n",
       "      <td>1600</td>\n",
       "    </tr>\n",
       "    <tr>\n",
       "      <th>2</th>\n",
       "      <td>Kylian Mbappe</td>\n",
       "      <td>Paris Saint-Germain</td>\n",
       "      <td>Forward</td>\n",
       "      <td>0.802688</td>\n",
       "      <td>0.303239</td>\n",
       "      <td>1.647941</td>\n",
       "      <td>1700</td>\n",
       "    </tr>\n",
       "    <tr>\n",
       "      <th>3</th>\n",
       "      <td>Erling Haaland</td>\n",
       "      <td>Manchester City</td>\n",
       "      <td>Forward</td>\n",
       "      <td>1.194243</td>\n",
       "      <td>-0.454859</td>\n",
       "      <td>0.649189</td>\n",
       "      <td>1500</td>\n",
       "    </tr>\n",
       "    <tr>\n",
       "      <th>4</th>\n",
       "      <td>Robert Lewandowski</td>\n",
       "      <td>Barcelona</td>\n",
       "      <td>Forward</td>\n",
       "      <td>0.606911</td>\n",
       "      <td>-1.592006</td>\n",
       "      <td>-0.848939</td>\n",
       "      <td>1600</td>\n",
       "    </tr>\n",
       "  </tbody>\n",
       "</table>\n",
       "</div>"
      ],
      "text/plain": [
       "               Player                 Team Position     Goals   Assists  \\\n",
       "0        Lionel Messi  Paris Saint-Germain  Forward  0.215355  1.061337   \n",
       "1   Cristiano Ronaldo             Al Nassr  Forward -0.371977 -0.075810   \n",
       "2       Kylian Mbappe  Paris Saint-Germain  Forward  0.802688  0.303239   \n",
       "3      Erling Haaland      Manchester City  Forward  1.194243 -0.454859   \n",
       "4  Robert Lewandowski            Barcelona  Forward  0.606911 -1.592006   \n",
       "\n",
       "   Minutes Played  Passes Completed  \n",
       "0        0.149813              1800  \n",
       "1       -0.349563              1600  \n",
       "2        1.647941              1700  \n",
       "3        0.649189              1500  \n",
       "4       -0.848939              1600  "
      ]
     },
     "execution_count": 22,
     "metadata": {},
     "output_type": "execute_result"
    }
   ],
   "source": [
    "# Mostrar el DataFrame limpio\n",
    "df_cleaned.head()"
   ]
  },
  {
   "cell_type": "code",
   "execution_count": null,
   "id": "199e8441-4abd-42c1-9dbe-303c022c1394",
   "metadata": {},
   "outputs": [],
   "source": [
    "4. Análisis Exploratorio \n",
    "Objetivo: Realizar un análisis más profundo que permita descubrir relaciones y patrones entre las variables del conjunto de datos."
   ]
  },
  {
   "cell_type": "code",
   "execution_count": 32,
   "id": "340cb4c9-e65a-446e-9155-340d7f747bad",
   "metadata": {},
   "outputs": [
    {
     "data": {
      "image/png": "[encoded data removed]",
      "text/plain": [
       "<Figure size 1200x800 with 2 Axes>"
      ]
     },
     "metadata": {},
     "output_type": "display_data"
    }
   ],
   "source": [
    "# Mapa de calor de correlación entre variables numéricas\n",
    "plt.figure(figsize=(12, 8))\n",
    "sns.heatmap(numeric_df.corr(), annot=True, cmap='coolwarm', linewidths=0.5)\n",
    "plt.title('Correlación entre Variables de Rendimiento')\n",
    "plt.show()"
   ]
  },
  {
   "cell_type": "code",
   "execution_count": null,
   "id": "eac3aa7c-9fc5-4c2a-ae96-e6c8115d217c",
   "metadata": {},
   "outputs": [],
   "source": [
    "Explicación:\n",
    "\n",
    "Mapa de Calor de Correlación: Este gráfico permite visualizar las relaciones entre las variables numéricas. Por ejemplo, podemos ver la correlación entre los minutos jugados y los goles anotados, o entre los pases completados y las asistencias.\n",
    "\n",
    "Diagrama de Caja (Boxplot): Este diagrama ayuda a comparar la distribución de goles anotados en función de la posición del jugador (por ejemplo, delanteros versus defensores), permitiendo identificar si hay posiciones con mayor rendimiento en términos de goles.\n",
    "\n",
    "Gráfico de Dispersión: Este gráfico muestra cómo los minutos jugados influyen en el número de goles, con un énfasis adicional en cómo varía esto según la posición. Los jugadores que juegan más minutos tienden a tener más oportunidades para anotar."
   ]
  },
  {
   "cell_type": "code",
   "execution_count": 35,
   "id": "1184c226-b12a-4ef2-95bd-ee4024b50264",
   "metadata": {},
   "outputs": [
    {
     "name": "stdout",
     "output_type": "stream",
     "text": [
      "Nombres de columnas:\n",
      "Index(['Player', 'Team', 'Position', 'Goals', 'Assists', 'Minutes Played',\n",
      "       'Passes Completed'],\n",
      "      dtype='object')\n"
     ]
    }
   ],
   "source": [
    "\n",
    "print(\"Nombres de columnas:\")\n",
    "print(df.columns)"
   ]
  },
  {
   "cell_type": "code",
   "execution_count": 36,
   "id": "546e3758-cbde-441e-a04a-9e8fc1d64c5c",
   "metadata": {},
   "outputs": [
    {
     "name": "stdout",
     "output_type": "stream",
     "text": [
      "\n",
      "Primeras filas del DataFrame:\n",
      "               Player                 Team Position  Goals  Assists  \\\n",
      "0        Lionel Messi  Paris Saint-Germain  Forward     18       10   \n",
      "1   Cristiano Ronaldo             Al Nassr  Forward     15        7   \n",
      "2       Kylian Mbappe  Paris Saint-Germain  Forward     21        8   \n",
      "3      Erling Haaland      Manchester City  Forward     23        6   \n",
      "4  Robert Lewandowski            Barcelona  Forward     20        3   \n",
      "\n",
      "   Minutes Played  Passes Completed  \n",
      "0            2200              1800  \n",
      "1            2100              1600  \n",
      "2            2500              1700  \n",
      "3            2300              1500  \n",
      "4            2000              1600  \n"
     ]
    }
   ],
   "source": [
    "print(\"\\nPrimeras filas del DataFrame:\")\n",
    "print(df.head())"
   ]
  },
  {
   "cell_type": "code",
   "execution_count": 41,
   "id": "9db1153c-86f2-4bd2-af0c-0df60db382ce",
   "metadata": {},
   "outputs": [
    {
     "name": "stdout",
     "output_type": "stream",
     "text": [
      "Las columnas 'posicion' o 'Goals' no se encuentran en el DataFrame.\n"
     ]
    }
   ],
   "source": [
    "# Asegurarse de que las columnas tienen el nombre correcto\n",
    "if 'posicion' in df.columns and 'Goals' in df.columns:\n",
    "    # Diagrama de caja para comparar el número de goles por posición\n",
    "    plt.figure(figsize=(10, 6))\n",
    "    sns.boxplot(x='posicion', y='Goals', data=df, palette='Set3')\n",
    "    plt.title('Distribución de Goles por Posición')\n",
    "    plt.xlabel('Posición')\n",
    "    plt.ylabel('Goles')\n",
    "    plt.show()\n",
    "else:\n",
    "    print(\"Las columnas 'posicion' o 'Goals' no se encuentran en el DataFrame.\")"
   ]
  },
  {
   "cell_type": "code",
   "execution_count": null,
   "id": "118281d2-7746-4fb1-a9eb-f85fc4bc8ac1",
   "metadata": {},
   "outputs": [],
   "source": []
  }
 ],
 "metadata": {
  "kernelspec": {
   "display_name": "Python 3 (ipykernel)",
   "language": "python",
   "name": "python3"
  },
  "language_info": {
   "codemirror_mode": {
    "name": "ipython",
    "version": 3
   },
   "file_extension": ".py",
   "mimetype": "text/x-python",
   "name": "python",
   "nbconvert_exporter": "python",
   "pygments_lexer": "ipython3",
   "version": "3.12.6"
  }
 },
 "nbformat": 4,
 "nbformat_minor": 5
}
